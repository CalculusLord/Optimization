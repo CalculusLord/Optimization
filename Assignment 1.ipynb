{
 "cells": [
  {
   "cell_type": "code",
   "execution_count": 1,
   "metadata": {
    "collapsed": true
   },
   "outputs": [],
   "source": [
    "import numpy as np\n",
    "import matplotlib.pyplot as plt\n",
    "import random, math\n",
    "from optmethods import *"
   ]
  },
  {
   "cell_type": "markdown",
   "source": [
    "# Problem 1\n",
    "\n",
    "Program the steepest descent and Newton algorithms using the backtracking line search. Use them to minimize the Rosenbrock function:\n",
    "\n",
    "\\begin{equation}\n",
    "f(\\vec {x})=100(x_2 - x^2_1)^2+(1-x_1)^2\n",
    "\\end{equation}\n",
    "\n",
    "Set the initial step length $\\alpha_0=1$ and report the step length used by each method of iteration. First try the inital point $\\vec{x_0^T}=[1.2,1.2]$ and the more difficult point $\\vec{x_0^T}=[-1.2,1]$.\n",
    "\n",
    "Stop when $|f(\\vec{x_k})|<10^{-8}|$, or $||\\triangledown f(\\vec{x_k})<10^8||$\n",
    "\n",
    "You should hand in (i) your code (ii) the first and last 6 values of $\\vec{x_k}$ obtained from your program for the steepest descent and Newton algorithms and (iii) determine the minimizer of the Rosenbrock function x*."
   ],
   "metadata": {
    "collapsed": false,
    "pycharm": {
     "name": "#%% md\n"
    }
   }
  },
  {
   "cell_type": "markdown",
   "source": [
    "#### Part I. $\\vec{x_0^T}=[1.2,1.2]$"
   ],
   "metadata": {
    "collapsed": false,
    "pycharm": {
     "name": "#%% md\n"
    }
   }
  },
  {
   "cell_type": "code",
   "execution_count": 2,
   "outputs": [],
   "source": [
    "\"\"\"\n",
    "Below are the initial conditions for all of the parameters to be\n",
    "iterated under the algorithm\n",
    "\"\"\"\n",
    "x_bar = np.array([[1.2],[1.2]]) # initial value given by the prompt\n",
    "func = f(x_bar)\n",
    "gf = gradf(x_bar)\n",
    "steep = lambda x: -x / np.linalg.norm(x) # returns p_k for steepest decent method\n",
    "newton = lambda x, y: -np.linalg.inv(x).dot(y) # Returns p_k for Newton's Method\n",
    "pk = steep(gf)\n",
    "step = step_dist(x_bar, pk, c_val)\n",
    "i=0 # sets up a count for number of iterates"
   ],
   "metadata": {
    "collapsed": false,
    "pycharm": {
     "name": "#%%\n"
    }
   }
  },
  {
   "cell_type": "code",
   "execution_count": 3,
   "outputs": [
    {
     "name": "stdout",
     "output_type": "stream",
     "text": [
      "x 1 =\t\t [[1.2 1.2]]\n",
      "x 2 =\t\t [[1.08455638 1.24793507]]\n",
      "x 3 =\t\t [[1.11290849 1.23479275]]\n",
      "x 4 =\t\t [[1.11109258 1.2355119 ]]\n",
      "x 5 =\t\t [[1.11145306 1.23518255]]\n",
      "x 6 =\t\t [[1.11096726 1.23523167]]\n",
      "x 6213 =\t [[1.00027409 1.00053227]]\n",
      "x 6214 =\t [[1.00026023 1.00053865]]\n",
      "x 6215 =\t [[1.00027366 1.00053141]]\n",
      "x 6216 =\t [[1.0002598  1.00053779]]\n",
      "x 6217 =\t [[1.00027324 1.00053056]]\n",
      "x 6218 =\t [[1.00025938 1.00053694]]\n",
      "minimized after 6218 iterations to the function value 9.999771073027879e-08 \n",
      "\n"
     ]
    }
   ],
   "source": [
    "while (abs(func) > 10e-8 or abs(norm(gf)) < 10e-8):\n",
    "    \"\"\"\n",
    "    The loop executes the algorithm to minimize the function\n",
    "    using steepest descent\n",
    "    \"\"\"\n",
    "    if i < 6:\n",
    "        print('x',i+1,'=\\t\\t', x_bar.transpose())\n",
    "    elif i > 6218-7:\n",
    "        print('x',i+1,'=\\t', x_bar.transpose())\n",
    "    x_bar = x_up(x_bar, step, pk)\n",
    "    func = f(x_bar)\n",
    "    gf = gradf(x_bar)\n",
    "    pk = steep(gf)\n",
    "    step = step_dist(x_bar, pk, c_val)\n",
    "    i=i+1\n",
    "print ('minimized after', i, 'iterations to the function value', func, '\\n')"
   ],
   "metadata": {
    "collapsed": false,
    "pycharm": {
     "name": "#%%\n"
    }
   }
  },
  {
   "cell_type": "code",
   "execution_count": 4,
   "outputs": [],
   "source": [
    "\"\"\"\n",
    "Executes the algorithm using Newton's Method\n",
    "\"\"\"\n",
    "x_bar = np.array([[1.2],[1.2]])\n",
    "func = f(x_bar)\n",
    "gf = gradf(x_bar)\n",
    "hf = hessf(x_bar)\n",
    "pk = newton(hf, gf)\n",
    "step = step_dist(x_bar, pk, c_val)\n",
    "i=0"
   ],
   "metadata": {
    "collapsed": false,
    "pycharm": {
     "name": "#%%\n"
    }
   }
  },
  {
   "cell_type": "code",
   "execution_count": 5,
   "outputs": [
    {
     "name": "stdout",
     "output_type": "stream",
     "text": [
      "x 1 =\t [[1.2 1.2]]\n",
      "x 2 =\t [[1.19591837 1.43020408]]\n",
      "x 3 =\t [[1.09828449 1.19668813]]\n",
      "x 4 =\t [[1.06448816 1.13199285]]\n",
      "x 5 =\t [[1.01199212 1.02137221]]\n",
      "x 6 =\t [[1.00426109 1.00848056]]\n",
      "minimized after 6 iterations to the function value 3.39703884020826e-08 \n",
      "\n"
     ]
    }
   ],
   "source": [
    "while (abs(func) > 10e-8 or abs(norm(gf)) < 10e-8):\n",
    "    print('x',i+1,'=\\t', x_bar.transpose())\n",
    "    x_bar = x_up(x_bar, step, pk)\n",
    "    func = f(x_bar)\n",
    "    gf = gradf(x_bar)\n",
    "    hf = hessf(x_bar)\n",
    "    pk = newton(hf, gf)\n",
    "    step = step_dist(x_bar, pk, c_val)\n",
    "    i=i+1\n",
    "\n",
    "print ('minimized after', i, 'iterations to the function value', func, '\\n')"
   ],
   "metadata": {
    "collapsed": false,
    "pycharm": {
     "name": "#%%\n"
    }
   }
  },
  {
   "cell_type": "markdown",
   "source": [
    "#### Part II. $\\vec{x_0^T}=[-1.2,1]$"
   ],
   "metadata": {
    "collapsed": false,
    "pycharm": {
     "name": "#%% md\n"
    }
   }
  },
  {
   "cell_type": "code",
   "execution_count": 6,
   "outputs": [],
   "source": [
    "x_bar = np.array([[-1.2],[1]])\n",
    "func = f(x_bar)\n",
    "gf = gradf(x_bar)\n",
    "pk = steep(gf)\n",
    "step = step_dist(x_bar, pk, c_val)\n",
    "i=0"
   ],
   "metadata": {
    "collapsed": false,
    "pycharm": {
     "name": "#%%\n"
    }
   }
  },
  {
   "cell_type": "code",
   "execution_count": 7,
   "outputs": [
    {
     "name": "stdout",
     "output_type": "stream",
     "text": [
      "x 1 =\t\t [[-1.2  1. ]]\n",
      "x 2 =\t\t [[-0.96853809  1.09447425]]\n",
      "x 3 =\t\t [[-1.07796721  1.0340568 ]]\n",
      "x 4 =\t\t [[-1.02057843  1.05881116]]\n",
      "x 5 =\t\t [[-1.02570126  1.0529127 ]]\n",
      "x 6 =\t\t [[-1.01789697  1.05255455]]\n",
      "x 6904 =\t [[0.99972607 0.99946819]]\n",
      "x 6905 =\t [[0.99973992 0.9994618 ]]\n",
      "x 6906 =\t [[0.99972649 0.99946904]]\n",
      "x 6907 =\t [[0.99974035 0.99946265]]\n",
      "x 6908 =\t [[0.99972692 0.99946989]]\n",
      "x 6909 =\t [[0.99974078 0.99946351]]\n",
      "minimized after 6909 iterations to the function value 9.989148957647811e-08 \n",
      "\n"
     ]
    }
   ],
   "source": [
    "while (abs(func) > 10e-8 or abs(norm(gf)) < 10e-8):\n",
    "    if i < 6:\n",
    "        print('x',i+1,'=\\t\\t', x_bar.transpose())\n",
    "    elif i > 6909-7:\n",
    "        print('x',i+1,'=\\t', x_bar.transpose())\n",
    "    x_bar = x_up(x_bar, step, pk)\n",
    "    func = f(x_bar)\n",
    "    gf = gradf(x_bar)\n",
    "    pk = steep(gf)\n",
    "    step = step_dist(x_bar, pk, c_val)\n",
    "    i=i+1\n",
    "\n",
    "\n",
    "print ('minimized after', i, 'iterations to the function value', func, '\\n')"
   ],
   "metadata": {
    "collapsed": false,
    "pycharm": {
     "name": "#%%\n"
    }
   }
  },
  {
   "cell_type": "code",
   "execution_count": 8,
   "outputs": [],
   "source": [
    "x_bar = np.array([[-1.2],[1]])\n",
    "func = f(x_bar)\n",
    "gf = gradf(x_bar)\n",
    "hf = hessf(x_bar)\n",
    "pk = newton(hf, gf)\n",
    "step = step_dist(x_bar, pk, c_val)\n",
    "i=0"
   ],
   "metadata": {
    "collapsed": false,
    "pycharm": {
     "name": "#%%\n"
    }
   }
  },
  {
   "cell_type": "code",
   "execution_count": 9,
   "outputs": [
    {
     "name": "stdout",
     "output_type": "stream",
     "text": [
      "x 1 =\t [[-1.2  1. ]]\n",
      "x 2 =\t [[-1.1752809   1.38067416]]\n",
      "x 3 =\t [[-0.93298143  0.81121066]]\n",
      "x 4 =\t [[-0.78254008  0.58973638]]\n",
      "x 5 =\t [[-0.45999712  0.10756339]]\n",
      "x 6 =\t [[-0.39304563  0.15000237]]\n",
      "x 15 =\t [[0.80278553 0.63322101]]\n",
      "x 16 =\t [[0.86349081 0.74193125]]\n",
      "x 17 =\t [[0.94207869 0.8813362 ]]\n",
      "x 18 =\t [[0.96799182 0.93633667]]\n",
      "x 19 =\t [[0.99621031 0.9916387 ]]\n",
      "x 20 =\t [[0.99947938 0.99894834]]\n",
      "minimized after 20 iterations to the function value 8.51707498509082e-12 \n",
      "\n",
      "\n",
      "This is the end of the computations for problem 1.\n",
      "\n",
      "\n"
     ]
    }
   ],
   "source": [
    "while (abs(func) > 10e-8 or abs(norm(gf)) < 10e-8):\n",
    "    if i < 6:\n",
    "        print('x',i+1,'=\\t', x_bar.transpose())\n",
    "    elif i >= 20-6:\n",
    "        print('x',i+1,'=\\t', x_bar.transpose())\n",
    "    x_bar = x_up(x_bar, step, pk)\n",
    "    func = f(x_bar)\n",
    "    gf = gradf(x_bar)\n",
    "    hf = hessf(x_bar)\n",
    "    pk = newton(hf, gf)\n",
    "    step = step_dist(x_bar, pk, c_val)\n",
    "    i=i+1\n",
    "\n",
    "\n",
    "print ('minimized after', i, 'iterations to the function value', func, '\\n')\n",
    "print('\\nThis is the end of the computations for problem 1.\\n\\n')"
   ],
   "metadata": {
    "collapsed": false,
    "pycharm": {
     "name": "#%%\n"
    }
   }
  },
  {
   "cell_type": "markdown",
   "source": [
    "#### Part III\n",
    "I solved for the minimizer by hand. The minimizer the the vector where $\\triangledown f(\\vec{x})=0$ where\n",
    "\n",
    "\\begin{equation}\n",
    "    \\triangledown f(\\vec{x})= \\begin{bmatrix}\n",
    "                                    \\frac {\\partial f(\\vec{x_k})}{\\partial x_1} \\\\\n",
    "                                    \\frac {\\partial f(\\vec{x_k})}{\\partial x_2}\n",
    "                               \\end{bmatrix}\n",
    "\\end{equation}\n",
    "\n",
    "We find that\n",
    "\n",
    "\\begin{equation}\n",
    "    \\texttt{(1)} \\ \\frac {\\partial f(\\vec{x_k})}{\\partial x_1} = -400x_1(x_2-x_1^2)-2(1-x_1)\n",
    "\\end{equation}\n",
    "\\begin{equation}\n",
    "    \\texttt{(2)} \\ \\frac {\\partial f(\\vec{x_k})}{\\partial x_2} = 200(x_2-x_1^2)\n",
    "\\end{equation}\n",
    "\n",
    "By setting $\\texttt{(2)} = 0$ we easily can see that $x_2=x_1^2$. We plug this result into $\\texttt{(1)}$ to obtain:\n",
    "\n",
    "\\begin{equation}\n",
    "    \\texttt{(3)} \\ \\frac {\\partial f(\\vec{x_k})}{\\partial x_1} = -400x_1^2(1-x_1)-2(1-x_1) \\\\\n",
    "    \\texttt{(4)} \\ \\frac {\\partial f(\\vec{x_k})}{\\partial x_1} = -2(200x^2+1)(1-x_1)\n",
    "\\end{equation}\n",
    "\n",
    "By $\\texttt{(4)}=0$ we find that $x_1=1,\\pm \\frac {\\sqrt {2}}{20}$. Therefore $x_2= 1, \\frac {1}{200}$. This gives us three minimizers:\n",
    "\n",
    "\\begin{equation}\n",
    "    \\vec{x^*} = \\begin{bmatrix}\n",
    "                     1 \\\\\n",
    "                     1\n",
    "                \\end{bmatrix}, \\begin{bmatrix}\n",
    "                                   \\frac {\\sqrt{2}}{20} \\\\\n",
    "                                   \\frac {1}{200}\n",
    "                               \\end{bmatrix}, \\begin{bmatrix}\n",
    "                                                  -\\frac {\\sqrt{2}}{20} \\\\\n",
    "                                                   \\frac {1}{200}\n",
    "                                               \\end{bmatrix}\n",
    "\\end{equation}\n",
    "\n",
    "Since the inital value is near to\n",
    "\\begin{equation}\n",
    "    \\vec{x^*} = \\begin{bmatrix}\n",
    "                     1 \\\\\n",
    "                     1\n",
    "                \\end{bmatrix}\n",
    "\\end{equation}\n",
    "\n",
    "we will use this value for our minimizer"
   ],
   "metadata": {
    "collapsed": false
   }
  },
  {
   "cell_type": "markdown",
   "source": [
    "# Problem 2\n",
    "Using $\\vec{x_k}$ values you obtained from Problem 1 determine\n",
    "\n",
    "(i) the rate of convergence of the steepest descent algorithm.\n",
    "\n",
    "(ii) the rate of convergence for the Newton algorithms.\n",
    "\n",
    "You should show your work to obtain full credit (show your calculations or your code if you computed it numerically)\n",
    "\n",
    "We can find the rate of convergence by calculating\n",
    "\n",
    "\\begin{equation}\n",
    "    P=\\frac {ln(||\\vec{x_{k+1}}-\\vec{x^*}||)}{ln(||\\vec{x_k}-\\vec{x^*}||)}\n",
    "\\end{equation}\n",
    "\n",
    "We will calculate this numerically under iteration. For $P=1$ we have linear convergence and $P=2$ quadratic convergence\n",
    "\n",
    "#### Part (i) Steepest Descent Calculations"
   ],
   "metadata": {
    "collapsed": false,
    "pycharm": {
     "name": "#%% md\n"
    }
   }
  },
  {
   "cell_type": "code",
   "execution_count": 15,
   "outputs": [],
   "source": [
    "x_bar = np.array([[1.2],[1.2]]) # initial value given by the prompt\n",
    "func = f(x_bar)\n",
    "gf = gradf(x_bar)\n",
    "pk = steep(gf)\n",
    "step = step_dist(x_bar, pk, c_val)\n",
    "i=0 # sets up a count for number of iterates"
   ],
   "metadata": {
    "collapsed": false,
    "pycharm": {
     "name": "#%%\n"
    }
   }
  },
  {
   "cell_type": "code",
   "execution_count": 16,
   "outputs": [
    {
     "name": "stdout",
     "output_type": "stream",
     "text": [
      "Here are the values for the rate of convergence under iteration using steepest descent for x^T= [[1.2 1.2]]\n",
      "P 1 =\t\t 1.060742704285312\n",
      "P 2 =\t\t 1.0040778090254454\n",
      "P 3 =\t\t 1.0003756182286052\n",
      "P 4 =\t\t 1.0004101301331445\n",
      "P 5 =\t\t 1.000466135032274\n",
      "P 6 =\t\t 1.0004108243539998\n",
      "P 6213 =\t 1.0001075978202745\n",
      "P 6214 =\t 1.000107222249847\n",
      "P 6215 =\t 1.0001075747958703\n",
      "P 6216 =\t 1.0001071993100337\n",
      "P 6217 =\t 1.0001075517810005\n",
      "P 6218 =\t 1.0001071763797458\n"
     ]
    }
   ],
   "source": [
    "print ('Here are the values for the rate of convergence under iteration using steepest descent for x^T=', x_bar.transpose())\n",
    "\n",
    "while (abs(func) > 10e-8 or abs(norm(gf)) < 10e-8):\n",
    "    x_bar_p = x_bar\n",
    "    x_bar = x_up(x_bar, step, pk)\n",
    "    rate = converge(x_bar_p,x_bar)\n",
    "    if i < 6:\n",
    "        print('P',i+1,'=\\t\\t', rate)\n",
    "    elif i > 6218-7:\n",
    "        print('P',i+1,'=\\t', rate)\n",
    "    func = f(x_bar)\n",
    "    gf = gradf(x_bar)\n",
    "    pk = steep(gf)\n",
    "    step = step_dist(x_bar, pk, c_val)\n",
    "    i=i+1"
   ],
   "metadata": {
    "collapsed": false,
    "pycharm": {
     "name": "#%%\n"
    }
   }
  },
  {
   "cell_type": "code",
   "execution_count": 17,
   "outputs": [],
   "source": [
    "x_bar = np.array([[-1.2],[1]])\n",
    "func = f(x_bar)\n",
    "gf = gradf(x_bar)\n",
    "pk = steep(gf)\n",
    "step = step_dist(x_bar, pk, c_val)\n",
    "i=0"
   ],
   "metadata": {
    "collapsed": false,
    "pycharm": {
     "name": "#%%\n"
    }
   }
  },
  {
   "cell_type": "code",
   "execution_count": 18,
   "outputs": [
    {
     "name": "stdout",
     "output_type": "stream",
     "text": [
      "Here are the values for the rate of convergence under iteration using steepest descent for x^T= [[-1.2  1. ]]\n",
      "P 1 =\t\t 0.8604669200575146\n",
      "P 2 =\t\t 1.0782424525049998\n",
      "P 3 =\t\t 0.9621103861651537\n",
      "P 4 =\t\t 1.0034807049554009\n",
      "P 5 =\t\t 0.9945316391749579\n",
      "P 6 =\t\t 1.003354032116385\n",
      "P 6904 =\t 1.0001073641149456\n",
      "P 6905 =\t 1.0001077167979573\n",
      "P 6906 =\t 1.000107340828528\n",
      "P 6907 =\t 1.000107693436064\n",
      "P 6908 =\t 1.0001073175521742\n",
      "P 6909 =\t 1.0001076700842615\n"
     ]
    }
   ],
   "source": [
    "print ('Here are the values for the rate of convergence under iteration using steepest descent for x^T=', x_bar.transpose())\n",
    "while (abs(func) > 10e-8 or abs(norm(gf)) < 10e-8):\n",
    "    x_bar_p = x_bar\n",
    "    x_bar = x_up(x_bar, step, pk)\n",
    "    rate = converge(x_bar_p,x_bar)\n",
    "    if i < 6:\n",
    "        print('P',i+1,'=\\t\\t', rate)\n",
    "    elif i > 6909-7:\n",
    "        print('P',i+1,'=\\t', rate)\n",
    "    func = f(x_bar)\n",
    "    gf = gradf(x_bar)\n",
    "    pk = steep(gf)\n",
    "    step = step_dist(x_bar, pk, c_val)\n",
    "    i=i+1"
   ],
   "metadata": {
    "collapsed": false,
    "pycharm": {
     "name": "#%%\n"
    }
   }
  },
  {
   "cell_type": "markdown",
   "source": [
    "We can see that the rate of convergence for the steepest descent method converge on 1 showing that we have linear convergence for this method\n",
    "\n",
    "#### Part (ii) Newton's Method Calculations"
   ],
   "metadata": {
    "collapsed": false,
    "pycharm": {
     "name": "#%% md\n"
    }
   }
  },
  {
   "cell_type": "code",
   "execution_count": 19,
   "outputs": [],
   "source": [
    "x_bar = np.array([[1.2],[1.2]])\n",
    "func = f(x_bar)\n",
    "gf = gradf(x_bar)\n",
    "hf = hessf(x_bar)\n",
    "pk = newton(hf, gf)\n",
    "step = step_dist(x_bar, pk, c_val)\n",
    "i=0"
   ],
   "metadata": {
    "collapsed": false,
    "pycharm": {
     "name": "#%%\n"
    }
   }
  },
  {
   "cell_type": "code",
   "execution_count": 20,
   "outputs": [
    {
     "name": "stdout",
     "output_type": "stream",
     "text": [
      "Here are the values for the rate of convergence under iteration using Newtons Method for x^T= [[1.2 1.2]]\n",
      "P 1 =\t\t 0.5933039683061683\n",
      "P 2 =\t\t 2.0215684557390623\n",
      "P 3 =\t\t 1.2662530404256076\n",
      "P 4 =\t\t 1.9337092575240904\n",
      "P 5 =\t\t 1.2557746097431397\n",
      "P 6 =\t\t 1.9840586694610232\n"
     ]
    }
   ],
   "source": [
    "print ('Here are the values for the rate of convergence under iteration using Newtons Method for x^T=', x_bar.transpose())\n",
    "while (abs(func) > 10e-8 or abs(norm(gf)) < 10e-8):\n",
    "    x_bar_p = x_bar\n",
    "    x_bar = x_up(x_bar, step, pk)\n",
    "    rate = converge(x_bar_p,x_bar)\n",
    "    print('P',i+1,'=\\t\\t', rate)\n",
    "    func = f(x_bar)\n",
    "    gf = gradf(x_bar)\n",
    "    hf = hessf(x_bar)\n",
    "    pk = newton(hf, gf)\n",
    "    step = step_dist(x_bar, pk, c_val)\n",
    "    i=i+1"
   ],
   "metadata": {
    "collapsed": false,
    "pycharm": {
     "name": "#%%\n"
    }
   }
  },
  {
   "cell_type": "code",
   "execution_count": 23,
   "outputs": [],
   "source": [
    "x_bar = np.array([[-1.2],[1]])\n",
    "func = f(x_bar)\n",
    "gf = gradf(x_bar)\n",
    "hf = hessf(x_bar)\n",
    "pk = newton(hf, gf)\n",
    "step = step_dist(x_bar, pk, c_val)\n",
    "i=0"
   ],
   "metadata": {
    "collapsed": false,
    "pycharm": {
     "name": "#%%\n"
    }
   }
  },
  {
   "cell_type": "code",
   "execution_count": 24,
   "outputs": [
    {
     "name": "stdout",
     "output_type": "stream",
     "text": [
      "Here are the values for the rate of convergence under iteration using Newtons Method for x^T= [[-1.2  1. ]]\n",
      "P 1 =\t 1.0047981693140409\n",
      "P 2 =\t 0.8378900623276719\n",
      "P 3 =\t 0.9096689234759973\n",
      "P 4 =\t 0.8895714718922014\n",
      "P 5 =\t 0.911711548764202\n",
      "P 6 =\t 0.9145199941193564\n",
      "P 15 =\t 1.4054226005672836\n",
      "P 16 =\t 1.6444519424810045\n",
      "P 17 =\t 1.3046779967760473\n",
      "P 18 =\t 1.775804740751343\n",
      "P 19 =\t 1.4385392887662778\n",
      "P 20 =\t 1.8987434533432224\n",
      "\n",
      "This is the end of the computations for problem 2.\n",
      "\n",
      "\n"
     ]
    }
   ],
   "source": [
    "print ('Here are the values for the rate of convergence under iteration using Newtons Method for x^T=', x_bar.transpose())\n",
    "while (abs(func) > 10e-8 or abs(norm(gf)) < 10e-8):\n",
    "    x_bar_p = x_bar\n",
    "    x_bar = x_up(x_bar, step, pk)\n",
    "    rate = converge(x_bar_p,x_bar)\n",
    "    if i < 6:\n",
    "        print('P',i+1,'=\\t', rate)\n",
    "    elif i >= 20-6:\n",
    "        print('P',i+1,'=\\t', rate)\n",
    "    func = f(x_bar)\n",
    "    gf = gradf(x_bar)\n",
    "    hf = hessf(x_bar)\n",
    "    pk = newton(hf, gf)\n",
    "    step = step_dist(x_bar, pk, c_val)\n",
    "    i=i+1\n",
    "\n",
    "print('\\nThis is the end of the computations for problem 2.\\n\\n')"
   ],
   "metadata": {
    "collapsed": false,
    "pycharm": {
     "name": "#%%\n"
    }
   }
  },
  {
   "cell_type": "markdown",
   "source": [
    "We can see that the rate of convergence for the steepest descent method converge on 2 showing that we have quadratic convergence for this method"
   ],
   "metadata": {
    "collapsed": false,
    "pycharm": {
     "name": "#%% md\n"
    }
   }
  },
  {
   "cell_type": "markdown",
   "source": [
    "# Problem 3\n",
    "Determine if the following function of two variables is convex. Create a contour plot of the function using a programming language of your choice:\n",
    "\n",
    "\\begin{equation}\n",
    "    f(x,y) = 5-5x-2y+2x^2+5xy+6y^2\n",
    "\\end{equation}\n",
    "\n",
    "\n",
    "From calulus we know that the second derivative of a function $g(x)$: $\\frac {d^2g(x)}{dx^2}$, tells us the concavity of the function at a given point. If the second derivative is positive, that function can be said to be concave up in that region. Recall from class that the definition of convexity is any local minimizer $x^*$ of the function $g(x)$ is a global minimixer of $g(x)$. Therefore if $\\frac {d^2g(x)}{dx^2}>0$ everywhere then $g(x)$ is convex.\n",
    "\n",
    "The Hessian defined by:\n",
    "\\begin{equation}\n",
    "    \\triangledown ^2h(\\vec{x})=\\begin{bmatrix}\n",
    "                                    \\frac {\\partial ^2 h(\\vec{x})}{\\partial x_1^2} & \\frac {\\partial ^2 h(\\vec{x})}{\\partial x_1 \\partial x_2} \\\\\n",
    "                                    \\frac {\\partial ^2 h(\\vec{x})}{\\partial x_2 \\partial x_1} & \\frac {\\partial ^2 h(\\vec{x})}{\\partial x_2^2}\n",
    "                               \\end{bmatrix}\n",
    "\\end{equation}\n",
    "is analygous to $\\frac {d^2g(x)}{dx^2}$ for a function $h(x,y)$ in two dimensions. Therefore for the function $f(x,y)$, if the Hessian is positive everywhere then we can say that the function is convex.\n",
    "\n",
    "Taking the derivatives of $f(x,y)$ we find:\n",
    "\n",
    "\\begin{equation}\n",
    "    f_x(x,y) = 5+2x+5y \\\\\n",
    "    f_y(x,y) = -2+5x+12y \\\\\n",
    "    f_{xx}(x,y) = 2 \\\\\n",
    "    f_{xy}(x,y) = 5 \\\\\n",
    "    f_{yy}(x,y) = 12\n",
    "\\end{equation}\n",
    "\n",
    "\\begin{equation}\n",
    "    \\triangledown ^2f(x,y)=\\begin{bmatrix}\n",
    "                                    2 & 5 \\\\\n",
    "                                    5 & 12\n",
    "                               \\end{bmatrix}\n",
    "\\end{equation}\n",
    "\n",
    "Therefore $f(x,y)$ is convex!"
   ],
   "metadata": {
    "collapsed": false,
    "pycharm": {
     "name": "#%% md\n"
    }
   }
  },
  {
   "cell_type": "code",
   "source": [
    "def f(x,y):\n",
    "    return (5-5*x-2*y+2*x**2+5*x*y+6*y**2)\n",
    "\n",
    "xlist = np.linspace(-10,10,100)\n",
    "ylist = np.linspace(-10,10,100)\n",
    "X, Y = np.meshgrid(xlist, ylist)\n",
    "\n",
    "Z = f(X,Y)\n",
    "\n",
    "plt.figure(figsize=(10,10))\n",
    "plt.contour(X,Y,Z)\n",
    "plt.xlabel('X')\n",
    "plt.ylabel('Y')\n",
    "plt.title('Contour Plot of the Function')"
   ],
   "metadata": {
    "collapsed": false,
    "pycharm": {
     "name": "#%%\n"
    }
   },
   "execution_count": 29,
   "outputs": [
    {
     "data": {
      "text/plain": "Text(0.5, 1.0, 'Contour Plot of the Function')"
     },
     "execution_count": 29,
     "metadata": {},
     "output_type": "execute_result"
    },
    {
     "data": {
      "text/plain": "<Figure size 720x720 with 1 Axes>",
      "image/png": "[encoded data removed]"
     },
     "metadata": {
      "needs_background": "light"
     },
     "output_type": "display_data"
    }
   ]
  },
  {
   "cell_type": "markdown",
   "source": [
    "# Problem 4\n",
    "(i) Show that the sequence $x_k=1+(0.5)^{2^k}$ is Q-quadratically convergent to 1.\n",
    "\n",
    "The definition of Q-quadratic convergence for a sequence is:\n",
    "\\begin{equation}\n",
    "    \\texttt {(5)} \\ \\lim\\limits_{x \\to \\infty} \\frac {|x_{k+1}-\\mathcal{L}|}{|x_k-\\mathcal{L}|^{p=2}}<M \\\\ \\texttt{for} \\ M>0 \\ \\texttt{where} \\ \\mathcal{L} \\ \\texttt{is the number being converged to}\n",
    "\\end{equation}\n",
    "\n",
    "expanding the equation out we have:\n",
    "\n",
    "\\begin{equation}\n",
    "    \\texttt {(6)} \\ \\lim\\limits_{x \\to \\infty} \\frac {|x_{k+1}-1|}{|x_k^2-2x_k+1|}<M\n",
    "\\end{equation}\n",
    "\n",
    "Since $\\lim\\limits_{x \\to \\infty} x_k = \\infty$ it is easy to see that $\\texttt {(6)}=1>0$ showing that $x_k$ converges Q-quadratically to 1.\n",
    "\n",
    "\n",
    "(ii) Does the sequence $x_k = \\frac{1}{k!}$ converge Q-superlinearly? Q-quadratically?\n",
    "\n",
    "For this sequence we will evaluate with Python:"
   ],
   "metadata": {
    "collapsed": false,
    "pycharm": {
     "name": "#%% md\n"
    }
   }
  },
  {
   "cell_type": "code",
   "execution_count": 32,
   "outputs": [
    {
     "name": "stdout",
     "output_type": "stream",
     "text": [
      "Determining Q-superlinear: The limit as x_k goes to infinity is: 1\n",
      "Determining Q-quadratic: The limit as x_k goes to infinity is: 1\n",
      "Determining Q-cubic: The limit as x_k goes to infinity is: 1\n"
     ]
    }
   ],
   "source": [
    "import sympy as sy\n",
    "\n",
    "g = lambda k: 1/sy.factorial(k)\n",
    "QCon = lambda func,plusk,q,k: sy.limit(abs(plusk-1)/abs(func-1)**q, k, math.inf)\n",
    "\n",
    "x = sy.symbols('x')\n",
    "seq1 = g(x)\n",
    "seq1p = g(x+1)\n",
    "\n",
    "print ('Determining Q-superlinear: The limit as x_k goes to infinity is:', QCon(seq1, seq1p, 1, x))\n",
    "print ('Determining Q-quadratic: The limit as x_k goes to infinity is:', QCon(seq1, seq1p, 2, x))\n",
    "print ('Determining Q-cubic: The limit as x_k goes to infinity is:', QCon(seq1, seq1p, 3, x))"
   ],
   "metadata": {
    "collapsed": false,
    "pycharm": {
     "name": "#%%\n"
    }
   }
  }
 ],
 "metadata": {
  "kernelspec": {
   "display_name": "Python 3",
   "language": "python",
   "name": "python3"
  },
  "language_info": {
   "codemirror_mode": {
    "name": "ipython",
    "version": 2
   },
   "file_extension": ".py",
   "mimetype": "text/x-python",
   "name": "python",
   "nbconvert_exporter": "python",
   "pygments_lexer": "ipython2",
   "version": "2.7.6"
  }
 },
 "nbformat": 4,
 "nbformat_minor": 0
}