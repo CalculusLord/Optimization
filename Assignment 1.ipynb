{
 "cells": [
  {
   "cell_type": "code",
   "execution_count": 1,
   "metadata": {
    "collapsed": true
   },
   "outputs": [],
   "source": [
    "import numpy as np\n",
    "import matplotlib.pyplot as plt\n",
    "import random\n",
    "from optmethods import *"
   ]
  },
  {
   "cell_type": "markdown",
   "source": [
    "# Problem 1\n",
    "\n",
    "Program the steepest descent and Newton algorithms using the backtracking line search. Use them to minimize the Rosenbrock function:\n",
    "\n",
    "\\begin{equation}\n",
    "f(\\vec {x})=100(x_2 - x^2_1)^2+(1-x_1)^2\n",
    "\\end{equation}\n",
    "\n",
    "Set the initial step length $\\alpha_0=1$ and report the step length used by each method of iteration. First try the inital point $\\vec{x_0^T}=[1.2,1.2]$ and the more difficult point $\\vec{x_0^T}=[-1.2,1]$.\n",
    "\n",
    "Stop when $|f(\\vec{x_k})|<10^{-8}|$, or $||\\triangledown f(\\vec{x_k})<10^8||$\n",
    "\n",
    "You should hand in (i) your code (ii) the first and last 6 values of $\\vec{x_k}$ obtained from your program for the steepest descent and Newton algorithms and (iii) determine the minimizer of the Rosenbrock function x*.\n",
    "\n",
    "#### Part i & ii. Code below with printed values for $\\vec{x_k}$"
   ],
   "metadata": {
    "collapsed": false,
    "pycharm": {
     "name": "#%% md\n"
    }
   }
  },
  {
   "cell_type": "markdown",
   "source": [
    "Part A. $\\vec{x_0^T}=[1.2,1.2]$"
   ],
   "metadata": {
    "collapsed": false,
    "pycharm": {
     "name": "#%% md\n"
    }
   }
  },
  {
   "cell_type": "code",
   "execution_count": 46,
   "outputs": [],
   "source": [
    "\"\"\"\n",
    "Below are the initial conditions for all of the parameters to be\n",
    "iterated under the algorithm\n",
    "\"\"\"\n",
    "x_bar = np.array([[1.2],[1.2]]) # initial value given by the prompt\n",
    "func = f(x_bar)\n",
    "gf = gradf(x_bar)\n",
    "steep = lambda x: -x / np.linalg.norm(x) # returns p_k for steepest decent method\n",
    "newton = lambda x, y: -np.linalg.inv(x).dot(y) # Returns p_k for Newton's Method\n",
    "pk = steep(gf)\n",
    "step = step_dist(x_bar, pk, c_val)\n",
    "i=0 # sets up a count for number of iterates"
   ],
   "metadata": {
    "collapsed": false,
    "pycharm": {
     "name": "#%%\n"
    }
   }
  },
  {
   "cell_type": "code",
   "execution_count": 47,
   "outputs": [
    {
     "name": "stdout",
     "output_type": "stream",
     "text": [
      "x 1 =\t\t [[1.2 1.2]]\n",
      "x 2 =\t\t [[1.08455638 1.24793507]]\n",
      "x 3 =\t\t [[1.11290849 1.23479275]]\n",
      "x 4 =\t\t [[1.11109258 1.2355119 ]]\n",
      "x 5 =\t\t [[1.11145306 1.23518255]]\n",
      "x 6 =\t\t [[1.11096726 1.23523167]]\n",
      "x 6213 =\t [[1.00027409 1.00053227]]\n",
      "x 6214 =\t [[1.00026023 1.00053865]]\n",
      "x 6215 =\t [[1.00027366 1.00053141]]\n",
      "x 6216 =\t [[1.0002598  1.00053779]]\n",
      "x 6217 =\t [[1.00027324 1.00053056]]\n",
      "x 6218 =\t [[1.00025938 1.00053694]]\n",
      "minimized after 6218 iterations to the function value 9.999771073027879e-08 \n",
      "\n"
     ]
    }
   ],
   "source": [
    "while (abs(func) > 10e-8 or abs(norm(gf)) < 10e-8):\n",
    "    \"\"\"\n",
    "    The loop executes the algorithm to minimize the function\n",
    "    using steepest descent\n",
    "    \"\"\"\n",
    "    if i < 6:\n",
    "        print('x',i+1,'=\\t\\t', x_bar.transpose())\n",
    "    elif i > 6218-7:\n",
    "        print('x',i+1,'=\\t', x_bar.transpose())\n",
    "    x_bar = x_up(x_bar, step, pk)\n",
    "    func = f(x_bar)\n",
    "    gf = gradf(x_bar)\n",
    "    pk = steep(gf)\n",
    "    step = step_dist(x_bar, pk, c_val)\n",
    "    i=i+1\n",
    "print ('minimized after', i, 'iterations to the function value', func, '\\n')"
   ],
   "metadata": {
    "collapsed": false,
    "pycharm": {
     "name": "#%%\n"
    }
   }
  },
  {
   "cell_type": "code",
   "execution_count": 48,
   "outputs": [],
   "source": [
    "\"\"\"\n",
    "Executes the algorithm using Newton's Method\n",
    "\"\"\"\n",
    "x_bar = np.array([[1.2],[1.2]])\n",
    "func = f(x_bar)\n",
    "gf = gradf(x_bar)\n",
    "hf = hessf(x_bar)\n",
    "pk = newton(hf, gf)\n",
    "step = step_dist(x_bar, pk, c_val)\n",
    "i=0"
   ],
   "metadata": {
    "collapsed": false,
    "pycharm": {
     "name": "#%%\n"
    }
   }
  },
  {
   "cell_type": "code",
   "execution_count": 49,
   "outputs": [
    {
     "name": "stdout",
     "output_type": "stream",
     "text": [
      "x 1 =\t [[1.2 1.2]]\n",
      "x 2 =\t [[1.19591837 1.43020408]]\n",
      "x 3 =\t [[1.09828449 1.19668813]]\n",
      "x 4 =\t [[1.06448816 1.13199285]]\n",
      "x 5 =\t [[1.01199212 1.02137221]]\n",
      "x 6 =\t [[1.00426109 1.00848056]]\n",
      "minimized after 6 iterations to the function value 3.39703884020826e-08 \n",
      "\n"
     ]
    }
   ],
   "source": [
    "while (abs(func) > 10e-8 or abs(norm(gf)) < 10e-8):\n",
    "    print('x',i+1,'=\\t', x_bar.transpose())\n",
    "    x_bar = x_up(x_bar, step, pk)\n",
    "    func = f(x_bar)\n",
    "    gf = gradf(x_bar)\n",
    "    hf = hessf(x_bar)\n",
    "    pk = newton(hf, gf)\n",
    "    step = step_dist(x_bar, pk, c_val)\n",
    "    i=i+1\n",
    "\n",
    "print ('minimized after', i, 'iterations to the function value', func, '\\n')"
   ],
   "metadata": {
    "collapsed": false,
    "pycharm": {
     "name": "#%%\n"
    }
   }
  },
  {
   "cell_type": "markdown",
   "source": [
    "Part B. $\\vec{x_0^T}=[-1.2,1]$"
   ],
   "metadata": {
    "collapsed": false,
    "pycharm": {
     "name": "#%% md\n"
    }
   }
  },
  {
   "cell_type": "code",
   "execution_count": 50,
   "outputs": [],
   "source": [
    "x_bar = np.array([[-1.2],[1]])\n",
    "func = f(x_bar)\n",
    "gf = gradf(x_bar)\n",
    "pk = steep(gf)\n",
    "step = step_dist(x_bar, pk, c_val)\n",
    "i=0"
   ],
   "metadata": {
    "collapsed": false,
    "pycharm": {
     "name": "#%%\n"
    }
   }
  },
  {
   "cell_type": "code",
   "execution_count": 51,
   "outputs": [
    {
     "name": "stdout",
     "output_type": "stream",
     "text": [
      "x 1 =\t\t [[-1.2  1. ]]\n",
      "x 2 =\t\t [[-0.96853809  1.09447425]]\n",
      "x 3 =\t\t [[-1.07796721  1.0340568 ]]\n",
      "x 4 =\t\t [[-1.02057843  1.05881116]]\n",
      "x 5 =\t\t [[-1.02570126  1.0529127 ]]\n",
      "x 6 =\t\t [[-1.01789697  1.05255455]]\n",
      "x 6904 =\t [[0.99972607 0.99946819]]\n",
      "x 6905 =\t [[0.99973992 0.9994618 ]]\n",
      "x 6906 =\t [[0.99972649 0.99946904]]\n",
      "x 6907 =\t [[0.99974035 0.99946265]]\n",
      "x 6908 =\t [[0.99972692 0.99946989]]\n",
      "x 6909 =\t [[0.99974078 0.99946351]]\n",
      "minimized after 6909 iterations to the function value 9.989148957647811e-08 \n",
      "\n"
     ]
    }
   ],
   "source": [
    "while (abs(func) > 10e-8 or abs(norm(gf)) < 10e-8):\n",
    "    if i < 6:\n",
    "        print('x',i+1,'=\\t\\t', x_bar.transpose())\n",
    "    elif i > 6909-7:\n",
    "        print('x',i+1,'=\\t', x_bar.transpose())\n",
    "    x_bar = x_up(x_bar, step, pk)\n",
    "    func = f(x_bar)\n",
    "    gf = gradf(x_bar)\n",
    "    pk = steep(gf)\n",
    "    step = step_dist(x_bar, pk, c_val)\n",
    "    i=i+1\n",
    "\n",
    "\n",
    "print ('minimized after', i, 'iterations to the function value', func, '\\n')"
   ],
   "metadata": {
    "collapsed": false,
    "pycharm": {
     "name": "#%%\n"
    }
   }
  },
  {
   "cell_type": "code",
   "execution_count": 54,
   "outputs": [],
   "source": [
    "x_bar = np.array([[-1.2],[1]])\n",
    "func = f(x_bar)\n",
    "gf = gradf(x_bar)\n",
    "hf = hessf(x_bar)\n",
    "pk = newton(hf, gf)\n",
    "step = step_dist(x_bar, pk, c_val)\n",
    "i=0"
   ],
   "metadata": {
    "collapsed": false,
    "pycharm": {
     "name": "#%%\n"
    }
   }
  },
  {
   "cell_type": "code",
   "execution_count": 55,
   "outputs": [
    {
     "name": "stdout",
     "output_type": "stream",
     "text": [
      "x 1 =\t [[-1.2  1. ]]\n",
      "x 2 =\t [[-1.1752809   1.38067416]]\n",
      "x 3 =\t [[-0.93298143  0.81121066]]\n",
      "x 4 =\t [[-0.78254008  0.58973638]]\n",
      "x 5 =\t [[-0.45999712  0.10756339]]\n",
      "x 6 =\t [[-0.39304563  0.15000237]]\n",
      "x 15 =\t [[0.80278553 0.63322101]]\n",
      "x 16 =\t [[0.86349081 0.74193125]]\n",
      "x 17 =\t [[0.94207869 0.8813362 ]]\n",
      "x 18 =\t [[0.96799182 0.93633667]]\n",
      "x 19 =\t [[0.99621031 0.9916387 ]]\n",
      "x 20 =\t [[0.99947938 0.99894834]]\n",
      "minimized after 20 iterations to the function value 8.51707498509082e-12 \n",
      "\n",
      "\n",
      "This is the end of the computations for problem 1.\n",
      "\n",
      "\n"
     ]
    }
   ],
   "source": [
    "while (abs(func) > 10e-8 or abs(norm(gf)) < 10e-8):\n",
    "    if i < 6:\n",
    "        print('x',i+1,'=\\t', x_bar.transpose())\n",
    "    elif i >= 20-6:\n",
    "        print('x',i+1,'=\\t', x_bar.transpose())\n",
    "    x_bar = x_up(x_bar, step, pk)\n",
    "    func = f(x_bar)\n",
    "    gf = gradf(x_bar)\n",
    "    hf = hessf(x_bar)\n",
    "    pk = newton(hf, gf)\n",
    "    step = step_dist(x_bar, pk, c_val)\n",
    "    i=i+1\n",
    "\n",
    "\n",
    "print ('minimized after', i, 'iterations to the function value', func, '\\n')\n",
    "print('\\nThis is the end of the computations for problem 1.\\n\\n')"
   ],
   "metadata": {
    "collapsed": false,
    "pycharm": {
     "name": "#%%\n"
    }
   }
  },
  {
   "cell_type": "code",
   "execution_count": null,
   "outputs": [],
   "source": [],
   "metadata": {
    "collapsed": false,
    "pycharm": {
     "name": "#%%\n"
    }
   }
  }
 ],
 "metadata": {
  "kernelspec": {
   "display_name": "Python 3",
   "language": "python",
   "name": "python3"
  },
  "language_info": {
   "codemirror_mode": {
    "name": "ipython",
    "version": 2
   },
   "file_extension": ".py",
   "mimetype": "text/x-python",
   "name": "python",
   "nbconvert_exporter": "python",
   "pygments_lexer": "ipython2",
   "version": "2.7.6"
  }
 },
 "nbformat": 4,
 "nbformat_minor": 0
}